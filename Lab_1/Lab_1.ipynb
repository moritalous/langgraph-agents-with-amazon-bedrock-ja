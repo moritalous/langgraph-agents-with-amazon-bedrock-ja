{
 "cells": [
  {
   "cell_type": "markdown",
   "id": "9690ac72-5d95-4cbf-875a-ae0e835593c9",
   "metadata": {},
   "source": [
    "# ラボ 1: ReAct エージェントをゼロから構築する\n",
    "\n",
    "## ReAct パターン\n",
    "\n",
    "このセクションでは、ReAct (推論と動作) パターンを使用して AI エージェントを構築します。この概念に馴染みがなくても心配はいりません。ステップごとに説明します。\n",
    "\n",
    "ReAct パターンは、人間の認知パターンを反映した AI の問題解決プロセスを構造化するフレームワークです。\n",
    "\n",
    "1. 現在の状況について **推論** する\n",
    "2. 実行するアクションを **決定** する\n",
    "3. そのアクションの結果を **観察** する\n",
    "4. タスクが完了するまで **繰り返す**\n",
    "\n",
    "この概念を説明するために、経験豊富なソフトウェア エンジニアが複雑なシステムのデバッグにどのように取り組むかを考えてみましょう。\n",
    "\n",
    "1. **推論**: エラー ログとシステム状態を分析する (例: 「データベース接続がタイムアウトしています」)\n",
    "2. **行動**: 診断アクションを実装する (例: 「データベース接続テストを実行する」)\n",
    "3. **観察**: 診断の結果を調べる (例: 「テストでレイテンシが高いことが示されています」)\n",
    "4. **繰り返す**: 問題が解決するまで、このプロセスを継続し、次にネットワーク構成を確認するなどします\n",
    "\n",
    "当社の AI エージェントは、同様の方法論を使用して問題に取り組みます。このエージェントを開発する際は、AI モデル (推論して決定する「頭脳」) と Python コード (環境とやり取りしてプロセス フローを管理する「本体」) の間の分担に注意してください。\n",
    "\n",
    "このノートブックは、次の [Simon Willison のノートブック](https://til.simonwillison.net/llms/python-react-pattern) に基づいています。"
   ]
  },
  {
   "cell_type": "markdown",
   "id": "0705a93c",
   "metadata": {},
   "source": [
    "## 環境の設定\n",
    "\n",
    "まず、必要なライブラリをインポートして環境を構成しましょう。\n",
    "\n",
    "### Bedrock クライアントの初期化\n",
    "\n",
    "Amazon Bedrock 経由で Claude モデルと通信するには、クライアント接続を確立する必要があります。このクライアントは、コードが AI モデルにリクエストを送信し、応答を受信できるようにする API ゲートウェイと考えてください。\n",
    "\n",
    "ここでは、Python 用の Amazon Web Services (AWS) SDK である `boto3` ライブラリを使用します。AWS に詳しくない方のために説明すると、`boto3` は、Bedrock を含むさまざまな AWS サービスと Python のやり取りを容易にする包括的なツールキットと考えることができます。\n",
    "\n",
    "AWS 認証情報を使用して `boto3` を構成するための包括的な手順については、[AWS ドキュメント](https://boto3.amazonaws.com/v1/documentation/api/latest/guide/configuration.html) を参照してください。\n",
    "\n",
    "本番環境では、安全な AWS 認証情報管理を実装します。このセクションでは、資格情報が環境で事前に構成されていると想定します。"
   ]
  },
  {
   "cell_type": "code",
   "execution_count": null,
   "id": "e17ac2a6",
   "metadata": {},
   "outputs": [],
   "source": [
    "from dotenv import load_dotenv\n",
    "import os\n",
    "import sys\n",
    "import boto3\n",
    "import re\n",
    "from botocore.config import Config\n",
    "import warnings\n",
    "\n",
    "warnings.filterwarnings(\"ignore\")\n",
    "import logging\n",
    "\n",
    "# import local modules\n",
    "dir_current = os.path.abspath(\"\")\n",
    "dir_parent = os.path.dirname(dir_current)\n",
    "if dir_parent not in sys.path:\n",
    "    sys.path.append(dir_parent)\n",
    "from utils import utils\n",
    "\n",
    "# Set basic configs\n",
    "logger = utils.set_logger()\n",
    "pp = utils.set_pretty_printer()\n",
    "\n",
    "# Load environment variables from .env file\n",
    "_ = load_dotenv(\"../.env\")\n",
    "aws_region = os.getenv(\"AWS_REGION\")\n",
    "\n",
    "# Set bedrock configs\n",
    "bedrock_config = Config(\n",
    "    connect_timeout=120, read_timeout=120, retries={\"max_attempts\": 0}\n",
    ")\n",
    "\n",
    "# Create a bedrock runtime client in your aws region.\n",
    "# If you do not have the AWS CLI profile setup, you can authenticate with aws access key, secret and session token.\n",
    "# For more details check https://docs.aws.amazon.com/cli/v1/userguide/cli-authentication-short-term.html\n",
    "bedrock_rt = boto3.client(\n",
    "    \"bedrock-runtime\",\n",
    "    region_name=aws_region,\n",
    "    config=bedrock_config,\n",
    ")"
   ]
  },
  {
   "cell_type": "markdown",
   "id": "650d7c33",
   "metadata": {},
   "source": [
    "まず、いくつかの推論パラメータを定義し、`boto3` 経由で Amazon Bedrock への接続をテストします。"
   ]
  },
  {
   "cell_type": "code",
   "execution_count": null,
   "id": "dc3293b7-a50c-43c8-a022-8975e1e444b8",
   "metadata": {
    "height": 30
   },
   "outputs": [],
   "source": [
    "# Set inference parameters\n",
    "temperature = 0.0\n",
    "top_k = 200\n",
    "inference_config = {\"temperature\": temperature}\n",
    "\n",
    "additional_model_fields = {\"top_k\": top_k}\n",
    "model_id = \"anthropic.claude-3-sonnet-20240229-v1:0\"\n",
    "system_prompts = [{\"text\": \"You are a helpful agent.\"}]\n",
    "message_1 = {\"role\": \"user\", \"content\": [{\"text\": \"Hello world\"}]}\n",
    "\n",
    "# Instantiate messages list\n",
    "messages = []\n",
    "messages.append(message_1)\n",
    "\n",
    "# Send the message.\n",
    "response = bedrock_rt.converse(\n",
    "    modelId=model_id,\n",
    "    messages=messages,\n",
    "    system=system_prompts,\n",
    "    inferenceConfig=inference_config,\n",
    "    additionalModelRequestFields=additional_model_fields,\n",
    ")\n",
    "\n",
    "pp.pprint(response)\n",
    "print(\"\\n\\n\")\n",
    "pp.pprint(response[\"output\"][\"message\"][\"content\"][0][\"text\"])"
   ]
  },
  {
   "cell_type": "markdown",
   "id": "d68601a7",
   "metadata": {},
   "source": [
    "## エージェント クラスの設計\n",
    "\n",
    "Bedrock クライアントをセットアップしたら、エージェント クラスを作成します。このクラスは AI エージェントの中核として機能し、Claude モデルと対話して会話状態を維持するためのロジックをカプセル化します。\n",
    "\n",
    "エージェントが実装する ReAct パターンは、3 つの主要なステップで構成されます。\n",
    "\n",
    "1. **推論 (思考)**: エージェントは現在の状況を評価して計画を策定します。たとえば、「2 種類の犬種の合計体重を計算するには、それぞれの体重を調べて合計する必要があります。」\n",
    "\n",
    "2. **行動 (アクション)**: エージェントは推論に基づいて適切なアクションを選択します。たとえば、「ボーダー コリーの平均体重を照会します。」\n",
    "\n",
    "3. **観察 (観察)**: エージェントはアクションからのフィードバックを処理します。この場合、「ボーダー コリーの平均体重は 30 ～ 55 ポンドです。」などです。\n",
    "\n",
    "このパターンにより、エージェントは複雑なタスクを管理可能なステップに分解し、新しい情報に基づいて戦略を適応させることができます。\n",
    "\n",
    "エージェント クラスは、会話履歴 (`self.messages`) を維持し、Claude モデルと対話するメソッド (`__call__` および `execute`) を提供することで、このパターンを実装します。"
   ]
  },
  {
   "cell_type": "code",
   "execution_count": null,
   "id": "ee0fe1c7-77e2-499c-a2f9-1f739bb6ddf0",
   "metadata": {
    "height": 387
   },
   "outputs": [],
   "source": [
    "class Agent:\n",
    "    def __init__(self, system=\"\"):\n",
    "        self.system = system\n",
    "        self.messages = []\n",
    "        if self.system:\n",
    "            self.system = [{\"text\": self.system}]\n",
    "        self.bedrock_client = boto3.client(service_name=\"bedrock-runtime\")\n",
    "\n",
    "    def __call__(self, message):\n",
    "        self.messages.append({\"role\": \"user\", \"content\": [{\"text\": message}]})\n",
    "        result = self.execute()\n",
    "        self.messages.append({\"role\": \"assistant\", \"content\": [{\"text\": result}]})\n",
    "        return result\n",
    "\n",
    "    def execute(self):\n",
    "        inference_config = {\n",
    "            \"temperature\": 0.0,\n",
    "            \"stopSequences\": [\n",
    "                \"<PAUSE>\"\n",
    "            ],  # we will explore later why this is important!\n",
    "        }\n",
    "\n",
    "        additional_model_fields = {\"top_k\": 200}\n",
    "\n",
    "        response = self.bedrock_client.converse(\n",
    "            modelId=\"anthropic.claude-3-sonnet-20240229-v1:0\",\n",
    "            messages=self.messages,\n",
    "            system=self.system,\n",
    "            inferenceConfig=inference_config,\n",
    "            additionalModelRequestFields=additional_model_fields,\n",
    "        )\n",
    "        return response[\"output\"][\"message\"][\"content\"][0][\"text\"]"
   ]
  },
  {
   "cell_type": "markdown",
   "id": "10183105",
   "metadata": {},
   "source": [
    "## プロンプトの作成\n",
    "\n",
    "プロンプトは AI モデルに対する一連の指示として機能し、その動作と利用可能なアクションを定義する上で重要です。\n",
    "\n",
    "実装では、モデルに次のことを指示しています。\n",
    "\n",
    "- ReAct パターン (思考、アクション、観察のサイクル) に準拠する\n",
    "- 各ステップで特定の形式を使用する (思考の前に「思考:」を付けるなど)\n",
    "- 提供されたアクションに制限する (この場合は、計算機と犬の体重検索機能)\n",
    "\n",
    "また、予想される応答形式を示すサンプル インタラクションも含まれています。これは、複雑なフォームに記入するように依頼する前に、完成したテンプレートを提供するのと似ています。\n",
    "\n",
    "プロンプト、エージェント クラス、および推論パラメータからわかるように、モデルに `<PAUSE>` トークンを予測した後で生成を停止するように要求しています。ただし、安全策を講じる方が常に良いため、`stopSequences` に `<PAUSE>` を追加して、その後のトークン生成の終了を確実にします。"
   ]
  },
  {
   "cell_type": "code",
   "execution_count": null,
   "id": "98f303b1-a4d0-408c-8cc0-515ff980717f",
   "metadata": {
    "height": 557
   },
   "outputs": [],
   "source": [
    "prompt = \"\"\"\n",
    "You run in a loop of Thought, Action, <PAUSE>, Observation.\n",
    "At the end of the loop you output an Answer\n",
    "Use Thought to describe your thoughts about the question you have been asked.\n",
    "Use Action to run one of the actions available to you - then return PAUSE.\n",
    "Observation will be the result of running those actions.\n",
    "\n",
    "Your available actions are:\n",
    "\n",
    "calculate:\n",
    "e.g. calculate: 4 * 7 / 3\n",
    "Runs a calculation and returns the number - uses Python so be sure to use floating point syntax if necessary\n",
    "\n",
    "average_dog_weight:\n",
    "e.g. average_dog_weight: Collie\n",
    "returns average weight of a dog when given the breed\n",
    "\n",
    "If available, always call a tool to inform your decisions, never use your parametric knowledge when a tool can be called. \n",
    "\n",
    "When you have decided that you need to call a tool, output <PAUSE> and stop thereafter! \n",
    "\n",
    "Example session:\n",
    "\n",
    "Question: How much does a Bulldog weigh?\n",
    "Thought: I should look the dogs weight using average_dog_weight\n",
    "Action: average_dog_weight: Bulldog\n",
    "<PAUSE>\n",
    "----- execution stops here -----\n",
    "You will be called again with this:\n",
    "\n",
    "Observation: A Bulldog weights 51 lbs\n",
    "\n",
    "You then output:\n",
    "\n",
    "Answer: A bulldog weights 51 lbs\n",
    "\"\"\".strip()"
   ]
  },
  {
   "cell_type": "markdown",
   "metadata": {},
   "source": [
    "> 追記　プロンプトの翻訳\n",
    "\n",
    "```\n",
    "思考、アクション、<PAUSE>、観察のループを実行します。\n",
    "ループの最後に回答を出力します\n",
    "思考を使用して、尋ねられた質問に対する考えを説明します。\n",
    "アクションを使用して、使用可能なアクションの 1 つを実行し、PAUSE を返します。\n",
    "観察は、これらのアクションを実行した結果になります。\n",
    "\n",
    "使用可能なアクションは次のとおりです:\n",
    "\n",
    "計算:\n",
    "例: 計算: 4 * 7 / 3\n",
    "計算を実行して数値を返します。Python を使用するため、必要に応じて浮動小数点構文を使用してください\n",
    "\n",
    "平均犬の体重:\n",
    "例: 平均犬の体重: コリー\n",
    "犬種が指定された場合の平均体重を返します\n",
    "\n",
    "使用可能な場合は、常にツールを呼び出して決定を通知し、ツールを呼び出せる場合はパラメトリックの知識を使用しないでください。\n",
    "\n",
    "ツールを呼び出す必要があると判断した場合は、<PAUSE> を出力してその後停止します。\n",
    "\n",
    "セッションの例:\n",
    "\n",
    "質問: ブルドッグの体重はどれくらいですか?\n",
    "考え: average_dog_weight を使用して犬の体重を調べる必要があります\n",
    "アクション: average_dog_weight: Bulldog\n",
    "<PAUSE>\n",
    "----- ここで実行が停止します -----\n",
    "次のように再度呼び出されます:\n",
    "\n",
    "観察: ブルドッグの体重は 51 ポンドです\n",
    "\n",
    "次に出力します:\n",
    "\n",
    "回答: ブルドッグの体重は 51 ポンドです\n",
    "```"
   ]
  },
  {
   "cell_type": "markdown",
   "id": "0383697a",
   "metadata": {},
   "source": [
    "## ヘルパー関数の実装\n",
    "\n",
    "エージェントに実用的な機能を持たせるために、いくつかのヘルパー関数を定義します。これらの関数は、エージェントが実行できる「アクション」として機能します。この例では、次のものを提供しています。\n",
    "\n",
    "1. 基本的な計算関数\n",
    "2. 犬の平均体重を取得する関数\n",
    "\n",
    "より高度なアプリケーションでは、これらの関数は、Web スクレイピングからデータベース クエリ、API 呼び出しまで、さまざまな操作をカバーできます。これらは、エージェントと外部データ ソースおよびシステムとの多目的インターフェイスであり、幅広い可能性を提供します。"
   ]
  },
  {
   "cell_type": "code",
   "execution_count": null,
   "id": "bf4dcb93-6298-4cfd-b3ce-61dfac7fb35f",
   "metadata": {
    "height": 302
   },
   "outputs": [],
   "source": [
    "def calculate(what):\n",
    "    return eval(what, {\"__builtins__\": {}}, {})\n",
    "\n",
    "\n",
    "def average_dog_weight(name):\n",
    "    if name in \"Scottish Terrier\":\n",
    "        return \"Scottish Terriers average 20 lbs\"\n",
    "    elif name in \"Border Collie\":\n",
    "        return \"a Border Collies average weight is 37 lbs\"\n",
    "    elif name in \"Toy Poodle\":\n",
    "        return \"a toy poodles average weight is 7 lbs\"\n",
    "    else:\n",
    "        return \"An average dog weights 50 lbs\"\n",
    "\n",
    "\n",
    "known_actions = {\"calculate\": calculate, \"average_dog_weight\": average_dog_weight}"
   ]
  },
  {
   "cell_type": "markdown",
   "id": "ed6c3246",
   "metadata": {},
   "source": [
    "## エージェントのテスト\n",
    "\n",
    "エージェントとそのアクション セットを定義したら、トイプードルの体重に関する簡単なクエリを使用して初期テストを実行します。\n",
    "\n",
    "このテストでは、エージェントの情報処理フローを明らかにします。\n",
    "\n",
    "1. 必要な手順について推論します (体重を調べる必要があることを識別します)\n",
    "2. アクションを実行します (`average_dog_weight` 関数を呼び出します)\n",
    "3. 観察を処理します (トイプードルの返された体重)\n",
    "4. この情報を統合して一貫した応答を作成します"
   ]
  },
  {
   "cell_type": "code",
   "execution_count": null,
   "id": "932883a4-c722-42bb-aec0-b4f41c5c81a4",
   "metadata": {
    "height": 30
   },
   "outputs": [],
   "source": [
    "abot = Agent(prompt)"
   ]
  },
  {
   "cell_type": "code",
   "execution_count": null,
   "id": "ff362f49-dcf1-4ea1-a86c-e516e9ab897d",
   "metadata": {
    "height": 47
   },
   "outputs": [],
   "source": [
    "result = abot(\"How much does a toy poodle weigh?\")\n",
    "print(result)"
   ]
  },
  {
   "cell_type": "code",
   "execution_count": null,
   "id": "a7e15a20-83d7-434c-8551-bce8dcc32be0",
   "metadata": {
    "height": 30
   },
   "outputs": [],
   "source": [
    "result = average_dog_weight(\"Toy Poodle\")\n",
    "result"
   ]
  },
  {
   "cell_type": "code",
   "execution_count": null,
   "id": "a833d3ce-bd31-4319-811d-decff226b970",
   "metadata": {
    "height": 30
   },
   "outputs": [],
   "source": [
    "next_prompt = \"Observation: {}\".format(result)"
   ]
  },
  {
   "cell_type": "code",
   "execution_count": null,
   "id": "76e93cce-6eab-4c7c-ac64-e9993fdb30d6",
   "metadata": {
    "height": 30
   },
   "outputs": [],
   "source": [
    "abot(next_prompt)"
   ]
  },
  {
   "cell_type": "code",
   "execution_count": null,
   "id": "fd2d0990-a932-423f-9ff3-5cada58c5f32",
   "metadata": {
    "height": 30
   },
   "outputs": [],
   "source": [
    "abot.messages"
   ]
  },
  {
   "cell_type": "code",
   "execution_count": null,
   "id": "27cde654-64e2-48bc-80a9-0ed668ccb7dc",
   "metadata": {
    "height": 30
   },
   "outputs": [],
   "source": [
    "abot = Agent(prompt)\n",
    "abot.messages"
   ]
  },
  {
   "cell_type": "code",
   "execution_count": null,
   "id": "4871f644-b131-4065-b7ce-b82c20a41f11",
   "metadata": {
    "height": 64
   },
   "outputs": [],
   "source": [
    "question = \"\"\"I have 2 dogs, a border collie and a scottish terrier. \\\n",
    "What is their combined weight\"\"\"\n",
    "abot(question)"
   ]
  },
  {
   "cell_type": "code",
   "execution_count": null,
   "id": "8c3d8070-3f36-4cf0-a677-508e54359c8f",
   "metadata": {
    "height": 47
   },
   "outputs": [],
   "source": [
    "next_prompt = \"Observation: {}\".format(average_dog_weight(\"Border Collie\"))\n",
    "print(next_prompt)"
   ]
  },
  {
   "cell_type": "code",
   "execution_count": null,
   "id": "98f3be1d-cc4c-41fa-9863-3e386e88e305",
   "metadata": {
    "height": 30
   },
   "outputs": [],
   "source": [
    "abot(next_prompt)"
   ]
  },
  {
   "cell_type": "code",
   "execution_count": null,
   "id": "0ad8a6cc-65d4-4ce7-87aa-4e67d7c23d7b",
   "metadata": {
    "height": 47
   },
   "outputs": [],
   "source": [
    "next_prompt = \"Observation: {}\".format(average_dog_weight(\"Scottish Terrier\"))\n",
    "print(next_prompt)"
   ]
  },
  {
   "cell_type": "code",
   "execution_count": null,
   "id": "592b5e62-a203-433c-92a0-3783f490cde1",
   "metadata": {
    "height": 30
   },
   "outputs": [],
   "source": [
    "abot(next_prompt)"
   ]
  },
  {
   "cell_type": "code",
   "execution_count": null,
   "id": "14fa923c-7e4f-42d1-965f-0f8ccd50fbd7",
   "metadata": {
    "height": 47
   },
   "outputs": [],
   "source": [
    "next_prompt = \"Observation: {}\".format(eval(\"37 + 20\"), {\"__builtins__\": {}}, {})\n",
    "print(next_prompt)"
   ]
  },
  {
   "cell_type": "code",
   "execution_count": null,
   "id": "570c6245-2837-4ac5-983b-95f61f3ac10d",
   "metadata": {
    "height": 30
   },
   "outputs": [],
   "source": [
    "abot(next_prompt)"
   ]
  },
  {
   "cell_type": "markdown",
   "id": "8b970c97",
   "metadata": {},
   "source": [
    "### stopSequences について\n",
    "\n",
    "上記のエージェント クラスから `stopSequence` パラメータを削除してみてください。\n",
    "\n",
    "次に進む前に、以下の質問について考えてみましょう:\n",
    "\n",
    "- エージェントのパフォーマンスは今どうですか?\n",
    "- `stopSequences` はいつ使用すべきですか? いつアプリケーションの負担になることがありますか?\n",
    "- プロンプトは [Anthropic のプロンプト標準](https://docs.anthropic.com/en/docs/prompt-engineering) に準拠していますか?\n",
    "\n",
    "ノートブックの最後に、エージェントが `stopSequences` を使用せずに指示に従うように演習を完了してみてください。"
   ]
  },
  {
   "cell_type": "markdown",
   "id": "6b46f2ac-f717-4ab9-b548-f34b74071d76",
   "metadata": {},
   "source": [
    "## 推論ループの実装\n",
    "\n",
    "エージェントの自律性を高めるために、エージェントが答えを求めて複数回推論、行動、観察できるようにする反復ループを実装します。このループは、エージェントが結論に達するか、事前に定義された反復の最大回数に達するまで続きます。\n",
    "\n",
    "このアプローチは、人間の専門家が複雑な問題に取り組む方法を反映しており、情報を収集し、解決策に到達するまで複数の手順を実行します。このループにより、エージェントは複数の手順またはデータ ポイントを必要とするより複雑なクエリを処理できるようになります。"
   ]
  },
  {
   "cell_type": "code",
   "execution_count": null,
   "id": "6b910915-b087-4d35-afff-0ec30a5852f1",
   "metadata": {
    "height": 30
   },
   "outputs": [],
   "source": [
    "action_re = re.compile(\n",
    "    \"^Action: (\\w+): (.*)$\"\n",
    ")  # python regular expression to selection action"
   ]
  },
  {
   "cell_type": "code",
   "execution_count": null,
   "id": "c4feb6cc-5129-4a99-bb45-851bc07b5709",
   "metadata": {
    "height": 421
   },
   "outputs": [],
   "source": [
    "def query(question, max_turns=5):\n",
    "    i = 0\n",
    "    bot = Agent(prompt)\n",
    "    next_prompt = question\n",
    "    while i < max_turns:\n",
    "        i += 1\n",
    "        result = bot(next_prompt)\n",
    "        print(result)\n",
    "        actions = [action_re.match(a) for a in result.split(\"\\n\") if action_re.match(a)]\n",
    "        if actions:\n",
    "            # There is an action to run\n",
    "            action, action_input = actions[0].groups()\n",
    "            if action not in known_actions:\n",
    "                raise Exception(\"Unknown action: {}: {}\".format(action, action_input))\n",
    "            print(\" -- running {} {}\".format(action, action_input))\n",
    "            observation = known_actions[action](action_input)\n",
    "            print(\"Observation:\", observation)\n",
    "            next_prompt = \"Observation: {}\".format(observation)\n",
    "        else:\n",
    "            return"
   ]
  },
  {
   "cell_type": "markdown",
   "id": "24d50e0f",
   "metadata": {},
   "source": [
    "## 最終評価\n",
    "\n",
    "最後に、複数のステップの推論とアクションを必要とするより複雑なクエリを使用して、完全に実装されたエージェントをテストします。2 つの異なる犬種の合計重量を計算するタスクをエージェントに課します。\n",
    "\n",
    "この包括的なテストでは、エージェントの次の機能を紹介します。\n",
    "\n",
    "1. 複雑なクエリを管理可能なサブタスクに分解する\n",
    "2. 複数の犬種の情報を取得する\n",
    "3. 収集したデータを使用して計算を実行する\n",
    "4. このすべての情報を統合して、一貫した最終応答を作成する\n",
    "\n",
    "この実用的な例に取り組むことで、複数のステップの問題を解決できる AI エージェントの構築に関する貴重な洞察が得られます。さらに、Amazon Bedrock や Anthropic の Claude などのモデルプロバイダーを効果的に活用する方法を直接確認できます。この知識により、将来のプロジェクトでより柔軟で多様な AI アプリケーションを開発できるようになります。"
   ]
  },
  {
   "cell_type": "code",
   "execution_count": null,
   "id": "e85a02b4-96cc-4b01-8792-397a774eb499",
   "metadata": {
    "height": 64
   },
   "outputs": [],
   "source": [
    "question = \"\"\"I have 2 dogs, a border collie and a scottish terrier. \\\n",
    "What is their combined weight\"\"\"\n",
    "query(question)"
   ]
  },
  {
   "cell_type": "markdown",
   "id": "df1b1e6b",
   "metadata": {},
   "source": [
    "# 演習 - エージェントを書き直して、人間中心のスタイルのプロンプトを使用します。"
   ]
  },
  {
   "cell_type": "code",
   "execution_count": null,
   "id": "ae8b86a6-5e20-4252-b1d8-009b8318345a",
   "metadata": {
    "height": 30
   },
   "outputs": [],
   "source": []
  }
 ],
 "metadata": {
  "kernelspec": {
   "display_name": "agents-dev-env",
   "language": "python",
   "name": "agents-dev-env"
  },
  "language_info": {
   "codemirror_mode": {
    "name": "ipython",
    "version": 3
   },
   "file_extension": ".py",
   "mimetype": "text/x-python",
   "name": "python",
   "nbconvert_exporter": "python",
   "pygments_lexer": "ipython3",
   "version": "3.10.14"
  }
 },
 "nbformat": 4,
 "nbformat_minor": 5
}
