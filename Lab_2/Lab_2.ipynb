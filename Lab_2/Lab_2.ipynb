{
 "cells": [
  {
   "cell_type": "markdown",
   "id": "21fa2e13-567d-4509-9023-c99fb230f31f",
   "metadata": {},
   "source": [
    "# ラボ 2: LangGraph コンポーネント"
   ]
  },
  {
   "cell_type": "markdown",
   "id": "fcd7ea45",
   "metadata": {},
   "source": [
    "## 環境の設定"
   ]
  },
  {
   "cell_type": "code",
   "execution_count": null,
   "id": "f5762271-8736-4e94-9444-8c92bd0e8074",
   "metadata": {
    "height": 47
   },
   "outputs": [],
   "source": [
    "from dotenv import load_dotenv\n",
    "import json\n",
    "import os\n",
    "import re\n",
    "import sys\n",
    "import warnings\n",
    "\n",
    "import boto3\n",
    "from botocore.config import Config\n",
    "\n",
    "warnings.filterwarnings(\"ignore\")\n",
    "import logging\n",
    "\n",
    "# import local modules\n",
    "dir_current = os.path.abspath(\"\")\n",
    "dir_parent = os.path.dirname(dir_current)\n",
    "if dir_parent not in sys.path:\n",
    "    sys.path.append(dir_parent)\n",
    "from utils import utils\n",
    "\n",
    "# Set basic configs\n",
    "logger = utils.set_logger()\n",
    "pp = utils.set_pretty_printer()\n",
    "\n",
    "# Load environment variables from .env file or Secret Manager\n",
    "_ = load_dotenv(\"../.env\")\n",
    "aws_region = os.getenv(\"AWS_REGION\")\n",
    "tavily_ai_api_key = utils.get_tavily_api(\"TAVILY_API_KEY\", aws_region)\n",
    "\n",
    "# Set bedrock configs\n",
    "bedrock_config = Config(\n",
    "    connect_timeout=120, read_timeout=120, retries={\"max_attempts\": 0}\n",
    ")\n",
    "\n",
    "# Create a bedrock runtime client\n",
    "bedrock_rt = boto3.client(\n",
    "    \"bedrock-runtime\", region_name=aws_region, config=bedrock_config\n",
    ")\n",
    "\n",
    "# Create a bedrock client to check available models\n",
    "bedrock = boto3.client(\"bedrock\", region_name=aws_region, config=bedrock_config)\n"
   ]
  },
  {
   "cell_type": "markdown",
   "id": "d6a89cc9",
   "metadata": {},
   "source": [
    "## ステート マシンとしての LangGraph\n",
    "\n",
    "システム設計に精通したソリューション アーキテクトにとって、LangGraph は言語モデルのステート マシンと考えることができます。ソフトウェア エンジニアリングのステート マシンが一連の状態と状態間の遷移を定義するのと同様に、LangGraph を使用すると、会話の状態 (ノードで表されます) と状態間の遷移 (エッジで表されます) を定義できます。\n",
    "\n",
    "**類推**: LangGraph をスマート シティの交通管制システムと考えてください。各交差点 (ノード) は決定ポイントを表し、交差点間の道路 (エッジ) は可能なパスを表します。信号 (条件付きエッジ) は、現在の状況に基づいてどのパスを取るかを決定します。この場合、「トラフィック」は AI エージェント内の情報と決定の流れです。"
   ]
  },
  {
   "cell_type": "code",
   "execution_count": null,
   "id": "d0168aee-bce9-4d60-b827-f86a88187e31",
   "metadata": {
    "height": 115
   },
   "outputs": [],
   "source": [
    "import operator\n",
    "from typing import Annotated, TypedDict\n",
    "\n",
    "from langchain_aws import ChatBedrockConverse\n",
    "from langchain_community.tools.tavily_search import TavilySearchResults\n",
    "from langchain_core.messages import AnyMessage, HumanMessage, SystemMessage, ToolMessage\n",
    "from langgraph.graph import END, StateGraph"
   ]
  },
  {
   "cell_type": "code",
   "execution_count": null,
   "id": "2589c5b6-6cc2-4594-9a17-dccdcf676054",
   "metadata": {
    "height": 64
   },
   "outputs": [],
   "source": [
    "tool = TavilySearchResults(max_results=4)  # increased number of results\n",
    "print(type(tool))\n",
    "print(tool.name)"
   ]
  },
  {
   "cell_type": "markdown",
   "id": "e196c186-af55-4f2d-b569-b7d63a859304",
   "metadata": {},
   "source": [
    "> Python の型付け注釈に慣れていない場合は、[Python ドキュメント](https://docs.python.org/3/library/typing.html)を参照してください。"
   ]
  },
  {
   "cell_type": "markdown",
   "id": "5e40395e",
   "metadata": {},
   "source": [
    "## エージェント状態の概念\n",
    "\n",
    "AgentState クラスは、会話全体を通じてコン​​テキストを維持するために不可欠です。データ サイエンティストにとって、これはリカレント ニューラル ネットワークで状態を維持することに例えることができます。\n",
    "\n",
    "**類推**: AgentState を洗練されたメモ帳と考えてください。アイデアをブレインストーミング (プロセス クエリ) するときに、重要なポイント (メッセージ) を書き留めます。このメモ帳は単に記録するだけではありません。新しいメモ (メッセージ) が既存のメモとシームレスに統合され、一貫した思考の流れが維持されるという特別な特性があります。\n",
    "同時に、いつでも時間をさかのぼって一部を書き直すことができます。これを「タイム トラベル」と呼びます。"
   ]
  },
  {
   "cell_type": "code",
   "execution_count": null,
   "id": "a2ba84ec-c172-4de7-ac55-e3158a531b23",
   "metadata": {
    "height": 47
   },
   "outputs": [],
   "source": [
    "class AgentState(TypedDict):\n",
    "    messages: Annotated[list[AnyMessage], operator.add]"
   ]
  },
  {
   "cell_type": "markdown",
   "id": "74c7ba73-e603-453b-b06f-5db92c567b19",
   "metadata": {},
   "source": [
    "> 注: 以下の `take_action` では、LLM が存在しないツール名を返した場合に対応するためにロジックが追加されました。\n",
    "\n",
    "```python\n",
    "if not t[\"name\"] in self.tools:  # LLM からの不正なツール名をチェック\n",
    "    print(\"\\n ....bad tool name....\")\n",
    "    result = \"bad tool name, retry\"  # 不正な場合は LLM に再試行を指示\n",
    "\n",
    "```\n"
   ]
  },
  {
   "cell_type": "code",
   "execution_count": null,
   "id": "876d5092-b8ef-4e38-b4d7-0e80c609bf7a",
   "metadata": {
    "height": 727
   },
   "outputs": [],
   "source": [
    "class Agent:\n",
    "\n",
    "    def __init__(self, model, tools, system=\"\"):\n",
    "        self.system = system\n",
    "        graph = StateGraph(AgentState)\n",
    "        graph.add_node(\"llm\", self.call_bedrock)\n",
    "        graph.add_node(\"action\", self.take_action)\n",
    "        graph.add_conditional_edges(\n",
    "            \"llm\", self.exists_action, {True: \"action\", False: END}\n",
    "        )\n",
    "        graph.add_edge(\"action\", \"llm\")\n",
    "        graph.set_entry_point(\"llm\")\n",
    "        self.graph = graph.compile()\n",
    "        self.tools = {t.name: t for t in tools}\n",
    "        self.model = model.bind_tools(tools)\n",
    "\n",
    "    def exists_action(self, state: AgentState):\n",
    "        result = state[\"messages\"][-1]\n",
    "        return len(result.tool_calls) > 0\n",
    "\n",
    "    def call_bedrock(self, state: AgentState):\n",
    "        messages = state[\"messages\"]\n",
    "        if self.system:\n",
    "            messages = [SystemMessage(content=self.system)] + messages\n",
    "        message = self.model.invoke(messages)\n",
    "        return {\"messages\": [message]}\n",
    "\n",
    "    def take_action(self, state: AgentState):\n",
    "        tool_calls = state[\"messages\"][-1].tool_calls\n",
    "        results = []\n",
    "        for t in tool_calls:\n",
    "            print(f\"Calling: {t}\")\n",
    "            if not t[\"name\"] in self.tools:  # check for bad tool name from LLM\n",
    "                print(\"\\n ....bad tool name....\")\n",
    "                result = \"bad tool name, retry\"  # instruct LLM to retry if bad\n",
    "            else:\n",
    "                result = self.tools[t[\"name\"]].invoke(t[\"args\"])\n",
    "            results.append(\n",
    "                ToolMessage(tool_call_id=t[\"id\"], name=t[\"name\"], content=str(result))\n",
    "            )\n",
    "        print(\"Back to the model!\")\n",
    "        return {\"messages\": results}"
   ]
  },
  {
   "cell_type": "markdown",
   "id": "2cd50074",
   "metadata": {},
   "source": [
    "見落とされがちな機能は、Python の関数またはオブジェクトのコードを調べるための `??` です。\n",
    "\n",
    "`ChatBedrockConverse` クラスの `bind_tools` メソッドを調べてみましょう。\n",
    "\n",
    "tavily ツールがサポートされるかどうか、また制限があるかどうかわかりますか?\n",
    "\n",
    "わからない場合は、どのように確認しますか?"
   ]
  },
  {
   "cell_type": "code",
   "execution_count": null,
   "id": "a61313ff",
   "metadata": {},
   "outputs": [],
   "source": [
    "??ChatBedrockConverse.bind_tools"
   ]
  },
  {
   "cell_type": "code",
   "execution_count": null,
   "id": "10084a02-2928-4945-9f7c-ad3f5b33caf7",
   "metadata": {
    "height": 149
   },
   "outputs": [],
   "source": [
    "prompt = \"\"\"You are a smart research assistant. Use the search engine to look up information. \\\n",
    "You are allowed to make multiple calls (either together or in sequence).\\\n",
    "Whenever you can, try to call multiple tools at once, to bring down inference time!\\\n",
    "Only look up information when you are sure of what you want. \\\n",
    "If you need to look up some information before asking a follow up question, you are allowed to do that!\n",
    "\"\"\"\n",
    "\n",
    "model = ChatBedrockConverse(\n",
    "    client=bedrock_rt,\n",
    "    model=\"anthropic.claude-3-haiku-20240307-v1:0\",\n",
    "    temperature=0,\n",
    "    max_tokens=None,\n",
    ")\n",
    "\n",
    "abot = Agent(model, [tool], system=prompt)"
   ]
  },
  {
   "cell_type": "markdown",
   "id": "76a6e009",
   "metadata": {},
   "source": [
    "> 追記　プロンプトの翻訳\n",
    "\n",
    "```\n",
    "あなたは賢い研究アシスタントです。検索エンジンを使用して情報を検索してください。\\\n",
    "複数の呼び出し（一緒にまたは順番に）を行うことができます。\\\n",
    "可能な限り、複数のツールを一度に呼び出して、推論時間を短縮してください。\\\n",
    "必要な情報が明確になった場合にのみ情報を検索してください。\\\n",
    "フォローアップの質問をする前に情報を検索する必要がある場合は、検索することができます。\n",
    "```"
   ]
  },
  {
   "cell_type": "code",
   "execution_count": null,
   "id": "a3d6f5f4-2392-41b9-ab96-7919840baa3e",
   "metadata": {
    "height": 64
   },
   "outputs": [],
   "source": [
    "# make sure to install pygraphviz if you haven't done so already using 'conda install --channel conda-forge pygraphviz'\n",
    "from IPython.display import Image\n",
    "\n",
    "Image(abot.graph.get_graph().draw_png())"
   ]
  },
  {
   "cell_type": "code",
   "execution_count": null,
   "id": "83588e70-254f-4f83-a510-c8ae81e729b0",
   "metadata": {
    "height": 47
   },
   "outputs": [],
   "source": [
    "messages = [HumanMessage(content=\"What is the weather in sf?\")]\n",
    "result = abot.graph.invoke({\"messages\": messages})"
   ]
  },
  {
   "cell_type": "code",
   "execution_count": null,
   "id": "89a06a8c-fcd4-4ca6-98f0-36c5809813e6",
   "metadata": {
    "height": 30,
    "scrolled": true
   },
   "outputs": [],
   "source": [
    "for message in result[\"messages\"]:\n",
    "    print(f\"{message}\\n\")"
   ]
  },
  {
   "cell_type": "code",
   "execution_count": null,
   "id": "6cb3ef4c-58b3-401b-b104-0d51e553d982",
   "metadata": {
    "height": 30
   },
   "outputs": [],
   "source": [
    "result[\"messages\"][-1].content"
   ]
  },
  {
   "cell_type": "code",
   "execution_count": null,
   "id": "dc3293b7-a50c-43c8-a022-8975e1e444b8",
   "metadata": {
    "height": 47
   },
   "outputs": [],
   "source": [
    "messages = [HumanMessage(content=\"What is the weather in SF and LA?\")]\n",
    "result = abot.graph.invoke({\"messages\": messages})"
   ]
  },
  {
   "cell_type": "code",
   "execution_count": null,
   "id": "0722c3d4-4cbf-43bf-81b0-50f634c4ce61",
   "metadata": {
    "height": 30
   },
   "outputs": [],
   "source": [
    "result[\"messages\"][-1].content"
   ]
  },
  {
   "cell_type": "markdown",
   "id": "9f759e2d",
   "metadata": {},
   "source": [
    "## 4. 並列ツール呼び出しとシーケンシャル ツール呼び出し\n",
    "\n",
    "エージェントが並列ツール呼び出しとシーケンシャル ツール呼び出しの両方を実行できる機能は、ソリューション アーキテクトが注意を払うべき強力な機能です。\n",
    "\n",
    "**詳細**:\n",
    "\n",
    "- 並列ツール呼び出しは、複数の独立したタスクを同時に実行できるマルチスレッド アプリケーションに似ています。これは、複数の独立した情報を必要とするクエリに効果的です。\n",
    "- シーケンシャル ツール呼び出しは、1 つの操作の出力が次の操作の入力になるパイプラインに似ています。これは、複数ステップの推論タスクに必要です。\n",
    "\n",
    "**例え**: 複雑なプロジェクトに取り組んでいる研究チームを想像してください。並列ツール呼び出しは、さまざまな側面を同時に研究するためにさまざまなチーム メンバーを割り当てるようなものです。シーケンシャル ツール呼び出しは、各研究者が前の研究者の調査結果に基づいて構築するリレー レースのようなものです。\n",
    "\n",
    "シーケンシャル ツール呼び出しと並列ツール呼び出しのどちらがあるかわかりますか。並列の場合、それらは本当に並列で実行されますか。"
   ]
  },
  {
   "cell_type": "code",
   "execution_count": null,
   "id": "6b2f82fe-3ec4-4917-be51-9fb10d1317fa",
   "metadata": {
    "height": 183
   },
   "outputs": [],
   "source": [
    "# Note, the query was modified to produce more consistent results.\n",
    "# Results may vary per run and over time as search information and models change.\n",
    "\n",
    "query = \"Who won the super bowl in 2024? In what state is the winning team headquarters located? \\\n",
    "What is the GDP of that state? Answer each question.\"\n",
    "messages = [HumanMessage(content=query)]\n",
    "\n",
    "model = ChatBedrockConverse(\n",
    "    client=bedrock_rt,\n",
    "    model=\"anthropic.claude-3-sonnet-20240229-v1:0\",\n",
    "    temperature=0,\n",
    "    max_tokens=None,\n",
    ")\n",
    "abot = Agent(model, [tool], system=prompt)\n",
    "result = abot.graph.invoke({\"messages\": messages})"
   ]
  },
  {
   "cell_type": "code",
   "execution_count": null,
   "id": "ee0fe1c7-77e2-499c-a2f9-1f739bb6ddf0",
   "metadata": {
    "height": 30
   },
   "outputs": [],
   "source": [
    "print(result[\"messages\"][-1].content)"
   ]
  },
  {
   "cell_type": "markdown",
   "id": "80ea5638",
   "metadata": {},
   "source": [
    "# 演習: ツールの並列呼び出しを可能にするには、ツール定義をどのように変更する必要がありますか?\n",
    "\n",
    "> 注: async を使用すると並列実行を省略できます"
   ]
  },
  {
   "cell_type": "code",
   "execution_count": null,
   "id": "0833ba0b",
   "metadata": {},
   "outputs": [],
   "source": []
  }
 ],
 "metadata": {
  "kernelspec": {
   "display_name": "agents-dev-env",
   "language": "python",
   "name": "agents-dev-env"
  },
  "language_info": {
   "codemirror_mode": {
    "name": "ipython",
    "version": 3
   },
   "file_extension": ".py",
   "mimetype": "text/x-python",
   "name": "python",
   "nbconvert_exporter": "python",
   "pygments_lexer": "ipython3",
   "version": "3.10.14"
  }
 },
 "nbformat": 4,
 "nbformat_minor": 5
}
